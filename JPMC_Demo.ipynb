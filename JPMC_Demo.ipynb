{
  "nbformat": 4,
  "nbformat_minor": 0,
  "metadata": {
    "colab": {
      "name": "JPMC Demo.ipynb",
      "provenance": [],
      "collapsed_sections": [],
      "include_colab_link": true
    },
    "kernelspec": {
      "name": "python3",
      "display_name": "Python 3"
    }
  },
  "cells": [
    {
      "cell_type": "markdown",
      "metadata": {
        "id": "view-in-github",
        "colab_type": "text"
      },
      "source": [
        "<a href=\"https://colab.research.google.com/github/anbubsc2k14/Cloud_Security/blob/master/JPMC_Demo.ipynb\" target=\"_parent\"><img src=\"https://colab.research.google.com/assets/colab-badge.svg\" alt=\"Open In Colab\"/></a>"
      ]
    },
    {
      "cell_type": "code",
      "metadata": {
        "id": "I2hUHWjgDneN",
        "colab_type": "code",
        "colab": {}
      },
      "source": [
        "!rm -r tableGAN"
      ],
      "execution_count": 0,
      "outputs": []
    },
    {
      "cell_type": "code",
      "metadata": {
        "id": "TncrfM_J92FA",
        "colab_type": "code",
        "colab": {
          "base_uri": "https://localhost:8080/",
          "height": 119
        },
        "outputId": "3551133e-c92c-46ed-c924-992f45325237"
      },
      "source": [
        "!git clone https://github.com/anbubsc2k14/tableGAN"
      ],
      "execution_count": 2,
      "outputs": [
        {
          "output_type": "stream",
          "text": [
            "Cloning into 'tableGAN'...\n",
            "remote: Enumerating objects: 11, done.\u001b[K\n",
            "remote: Counting objects: 100% (11/11), done.\u001b[K\n",
            "remote: Compressing objects: 100% (11/11), done.\u001b[K\n",
            "remote: Total 98 (delta 2), reused 0 (delta 0), pack-reused 87\u001b[K\n",
            "Unpacking objects: 100% (98/98), done.\n"
          ],
          "name": "stdout"
        }
      ]
    },
    {
      "cell_type": "code",
      "metadata": {
        "id": "sQcE_u7b-kD-",
        "colab_type": "code",
        "colab": {
          "base_uri": "https://localhost:8080/",
          "height": 34
        },
        "outputId": "520e5045-1c0d-4edc-8bd2-d85e603b8c7c"
      },
      "source": [
        "!python tableGAN/main.py --dataset=tableGAN/data/Adult --test_id=0I_11_00 --train"
      ],
      "execution_count": 1,
      "outputs": [
        {
          "output_type": "stream",
          "text": [
            "python3: can't open file 'tableGAN/main.py': [Errno 2] No such file or directory\n"
          ],
          "name": "stdout"
        }
      ]
    },
    {
      "cell_type": "code",
      "metadata": {
        "id": "avb2WCwUKa_b",
        "colab_type": "code",
        "colab": {
          "base_uri": "https://localhost:8080/",
          "height": 1000
        },
        "outputId": "202ab16e-3974-4b01-9a57-d9396ecd3bf6"
      },
      "source": [
        "!python tableGAN/main.py --dataset=tableGAN/data/Adult/ --test_id=0I_11_00"
      ],
      "execution_count": 32,
      "outputs": [
        {
          "output_type": "stream",
          "text": [
            "Using OI_11_00\n",
            "{'?': <absl.app.HelpFlag object at 0x7f1347014828>,\n",
            " 'alpha': <absl.flags._flag.Flag object at 0x7f1347014240>,\n",
            " 'alsologtostderr': <absl.flags._flag.BooleanFlag object at 0x7f13692e5a58>,\n",
            " 'attrib_num': <absl.flags._flag.Flag object at 0x7f1347014630>,\n",
            " 'batch_size': <absl.flags._flag.Flag object at 0x7f1346fec9e8>,\n",
            " 'beta': <absl.flags._flag.Flag object at 0x7f13470142e8>,\n",
            " 'beta1': <absl.flags._flag.Flag object at 0x7f1356893be0>,\n",
            " 'checkpoint_dir': <absl.flags._flag.Flag object at 0x7f1346ff9fd0>,\n",
            " 'checkpoint_par_dir': <absl.flags._flag.Flag object at 0x7f1346ff9f60>,\n",
            " 'crop': <absl.flags._flag.BooleanFlag object at 0x7f1347014128>,\n",
            " 'dataset': <absl.flags._flag.Flag object at 0x7f1346ff9ef0>,\n",
            " 'delta_m': <absl.flags._flag.Flag object at 0x7f1347014390>,\n",
            " 'delta_v': <absl.flags._flag.Flag object at 0x7f1347014438>,\n",
            " 'epoch': <absl.flags._flag.Flag object at 0x7f137e521cf8>,\n",
            " 'feature_size': <absl.flags._flag.Flag object at 0x7f13470146d8>,\n",
            " 'generate_data': <absl.flags._flag.BooleanFlag object at 0x7f1347014198>,\n",
            " 'help': <absl.app.HelpFlag object at 0x7f1347014828>,\n",
            " 'helpfull': <absl.app.HelpfullFlag object at 0x7f1347014940>,\n",
            " 'helpshort': <absl.app.HelpshortFlag object at 0x7f13470148d0>,\n",
            " 'helpxml': <absl.app.HelpXMLFlag object at 0x7f13470149b0>,\n",
            " 'input_height': <absl.flags._flag.Flag object at 0x7f1346ff9d68>,\n",
            " 'input_width': <absl.flags._flag.Flag object at 0x7f1346ff9d30>,\n",
            " 'label_col': <absl.flags._flag.Flag object at 0x7f1347014588>,\n",
            " 'learning_rate': <absl.flags._flag.Flag object at 0x7f1356a3bf98>,\n",
            " 'log_dir': <absl.flags._flag.Flag object at 0x7f13692e5b00>,\n",
            " 'logtostderr': <absl.flags._flag.BooleanFlag object at 0x7f136935b6a0>,\n",
            " 'only_check_args': <absl.flags._flag.BooleanFlag object at 0x7f13692f2320>,\n",
            " 'op_conversion_fallback_to_while_loop': <absl.flags._flag.BooleanFlag object at 0x7f1366ffc7f0>,\n",
            " 'output_height': <absl.flags._flag.Flag object at 0x7f1346ff9dd8>,\n",
            " 'output_width': <absl.flags._flag.Flag object at 0x7f1346ff9e80>,\n",
            " 'pdb_post_mortem': <absl.flags._flag.BooleanFlag object at 0x7f13697ffa58>,\n",
            " 'profile_file': <absl.flags._flag.Flag object at 0x7f13692f2278>,\n",
            " 'run_with_pdb': <absl.flags._flag.BooleanFlag object at 0x7f13697ff860>,\n",
            " 'run_with_profiling': <absl.flags._flag.BooleanFlag object at 0x7f13692f21d0>,\n",
            " 'sample_dir': <absl.flags._flag.Flag object at 0x7f1347014080>,\n",
            " 'shadow_gan': <absl.flags._flag.BooleanFlag object at 0x7f1347014710>,\n",
            " 'shgan_input_type': <absl.flags._flag.Flag object at 0x7f13470147f0>,\n",
            " 'showprefixforinfo': <absl.flags._flag.BooleanFlag object at 0x7f13692e5d68>,\n",
            " 'stderrthreshold': <absl.logging._StderrthresholdFlag object at 0x7f13692e5c50>,\n",
            " 'test_id': <absl.flags._flag.Flag object at 0x7f13470144e0>,\n",
            " 'test_random_seed': <absl.flags._flag.Flag object at 0x7f135ebdf7b8>,\n",
            " 'test_randomize_ordering_seed': <absl.flags._flag.Flag object at 0x7f135eb720b8>,\n",
            " 'test_srcdir': <absl.flags._flag.Flag object at 0x7f135ebdf908>,\n",
            " 'test_tmpdir': <absl.flags._flag.Flag object at 0x7f135ebdfb00>,\n",
            " 'train': <absl.flags._flag.BooleanFlag object at 0x7f13470140b8>,\n",
            " 'train_size': <absl.flags._flag.Flag object at 0x7f13568965f8>,\n",
            " 'use_cprofile_for_profiling': <absl.flags._flag.BooleanFlag object at 0x7f13692f22b0>,\n",
            " 'v': <absl.logging._VerbosityFlag object at 0x7f13692e5b70>,\n",
            " 'verbosity': <absl.logging._VerbosityFlag object at 0x7f13692e5b70>,\n",
            " 'xml_output_file': <absl.flags._flag.Flag object at 0x7f135eb72128>,\n",
            " 'y_dim': <absl.flags._flag.Flag object at 0x7f1356896438>}\n",
            "2\n",
            "Chekcpoint : checkpoint/tableGAN/data/Adult//OI_11_00\n",
            "2019-09-22 09:04:28.471163: I tensorflow/core/platform/profile_utils/cpu_utils.cc:94] CPU Frequency: 2200000000 Hz\n",
            "2019-09-22 09:04:28.471351: I tensorflow/compiler/xla/service/service.cc:168] XLA service 0x2343480 executing computations on platform Host. Devices:\n",
            "2019-09-22 09:04:28.471381: I tensorflow/compiler/xla/service/service.cc:175]   StreamExecutor device (0): <undefined>, <undefined>\n",
            "Error Loading Dataset !!\n"
          ],
          "name": "stdout"
        }
      ]
    },
    {
      "cell_type": "code",
      "metadata": {
        "id": "vCwFavkUOTeQ",
        "colab_type": "code",
        "colab": {
          "base_uri": "https://localhost:8080/",
          "height": 306
        },
        "outputId": "8037ab6f-b404-4caf-bc17-47ccb7f26f90"
      },
      "source": [
        "!ls -la tableGAN"
      ],
      "execution_count": 34,
      "outputs": [
        {
          "output_type": "stream",
          "text": [
            "total 132\n",
            "drwxr-xr-x 5 root root  4096 Sep 22 09:04 .\n",
            "drwxr-xr-x 1 root root  4096 Sep 22 08:59 ..\n",
            "drwxr-xr-x 4 root root  4096 Sep 22 08:59 data\n",
            "-rw-r--r-- 1 root root  3738 Sep 22 08:59 eval.py\n",
            "-rwxr-xr-x 1 root root    95 Sep 22 08:59 generate_Adult.sh\n",
            "drwxr-xr-x 8 root root  4096 Sep 22 08:59 .git\n",
            "-rw-r--r-- 1 root root    75 Sep 22 08:59 .gitignore\n",
            "-rw-r--r-- 1 root root     0 Sep 22 08:59 __init__.py\n",
            "-rw-r--r-- 1 root root  7353 Sep 22 08:59 main.py\n",
            "-rw-r--r-- 1 root root 38101 Sep 22 08:59 model.py\n",
            "-rw-r--r-- 1 root root  5254 Sep 22 08:59 ops.py\n",
            "-rw-r--r-- 1 root root 11082 Sep 22 08:59 preprocess_data.ipynb\n",
            "drwxr-xr-x 2 root root  4096 Sep 22 09:04 __pycache__\n",
            "-rw-r--r-- 1 root root  4666 Sep 22 08:59 README.md\n",
            "-rwxr-xr-x 1 root root   132 Sep 22 08:59 train_Adult.sh\n",
            "-rw-r--r-- 1 root root 19284 Sep 22 08:59 utils.py\n"
          ],
          "name": "stdout"
        }
      ]
    },
    {
      "cell_type": "code",
      "metadata": {
        "id": "9p_BnHmr_LmQ",
        "colab_type": "code",
        "colab": {}
      },
      "source": [
        ""
      ],
      "execution_count": 0,
      "outputs": []
    }
  ]
}